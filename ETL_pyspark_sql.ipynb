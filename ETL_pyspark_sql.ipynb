{
 "cells": [
  {
   "cell_type": "code",
   "execution_count": 1,
   "id": "cbefd3ea-62ad-4a19-b2c7-2595c3f5cf73",
   "metadata": {},
   "outputs": [],
   "source": [
    "import sys\n",
    "import os\n",
    "\n",
    "os.environ['HADOOP_HOME'] = \"C:\\Hadoop\"\n",
    "sys.path.append(\"C:\\Hadoop\\bin\")"
   ]
  },
  {
   "cell_type": "code",
   "execution_count": 2,
   "id": "8b0fa54d-2fa8-46ab-86e2-edc8c1ca6693",
   "metadata": {},
   "outputs": [],
   "source": [
    "import pyspark\n",
    "from pyspark.sql import SparkSession\n",
    "from pyspark.sql import Row\n",
    "spark = SparkSession.builder.config(\"spark.jars\", \"\\Spark\\spark-3.3.1-bin-hadoop3\\jars\\mysql-connector-j-8.0.32.jar\") \\\n",
    ".master(\"local\").appName(\"PySpark_sql_test\").getOrCreate()"
   ]
  },
  {
   "cell_type": "code",
   "execution_count": 3,
   "id": "43720739-7321-475f-98c7-163eaf4500a0",
   "metadata": {},
   "outputs": [],
   "source": [
    "df = spark.read.format(\"jdbc\").option(\"url\", \"jdbc:mysql://localhost:3306/Project6\") \\\n",
    "    .option(\"driver\", \"com.mysql.cj.jdbc.Driver\").option(\"dbtable\", \"test1\") \\\n",
    "    .option(\"user\", \"root\").option(\"password\", \"M1a2r3t4a5!\").load()"
   ]
  },
  {
   "cell_type": "code",
   "execution_count": 4,
   "id": "35a5e78e-bca1-4366-87f6-e39a7d493c1f",
   "metadata": {},
   "outputs": [
    {
     "name": "stdout",
     "output_type": "stream",
     "text": [
      "+----+---+\n",
      "|TIME|sum|\n",
      "+----+---+\n",
      "+----+---+\n",
      "\n"
     ]
    }
   ],
   "source": [
    "df.show()"
   ]
  },
  {
   "cell_type": "code",
   "execution_count": 8,
   "id": "42ac3655-27d8-4bde-bf9b-148d39213cad",
   "metadata": {},
   "outputs": [],
   "source": [
    "df.write \\\n",
    "  .format(\"jdbc\") \\\n",
    "  .option(\"driver\",\"com.mysql.cj.jdbc.Driver\") \\\n",
    "  .option(\"url\", \"jdbc:mysql://localhost:3306/Project6\") \\\n",
    "  .option(\"dbtable\", \"test2\") \\\n",
    "  .option(\"user\", \"root\") \\\n",
    "  .option(\"password\", \"M1a2r3t4a5!\") \\\n",
    "  .save()"
   ]
  },
  {
   "cell_type": "code",
   "execution_count": null,
   "id": "567fe2f4-ac0c-438a-918c-cff13e43851f",
   "metadata": {},
   "outputs": [],
   "source": []
  }
 ],
 "metadata": {
  "kernelspec": {
   "display_name": "Python 3 (ipykernel)",
   "language": "python",
   "name": "python3"
  },
  "language_info": {
   "codemirror_mode": {
    "name": "ipython",
    "version": 3
   },
   "file_extension": ".py",
   "mimetype": "text/x-python",
   "name": "python",
   "nbconvert_exporter": "python",
   "pygments_lexer": "ipython3",
   "version": "3.10.4"
  }
 },
 "nbformat": 4,
 "nbformat_minor": 5
}
