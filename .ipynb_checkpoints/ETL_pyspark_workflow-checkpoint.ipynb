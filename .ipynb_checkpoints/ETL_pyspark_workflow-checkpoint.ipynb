{
 "cells": [
  {
   "cell_type": "markdown",
   "id": "b88fcc6a-6dbd-4ded-8017-c6da40578e23",
   "metadata": {},
   "source": [
    "## Imports and Initialization of script"
   ]
  },
  {
   "cell_type": "code",
   "execution_count": 1,
   "id": "b684bb0a-46de-4a1b-a2ac-a10eca7a2299",
   "metadata": {},
   "outputs": [],
   "source": [
    "import sys\n",
    "import os\n",
    "\n",
    "os.environ['HADOOP_HOME'] = \"C:\\Hadoop\"\n",
    "sys.path.append(\"C:\\Hadoop\\bin\")"
   ]
  },
  {
   "cell_type": "code",
   "execution_count": 2,
   "id": "724454f7-d024-4024-95a5-0ed7cd5e7af6",
   "metadata": {},
   "outputs": [],
   "source": [
    "from pyspark.sql import SparkSession\n",
    "\n",
    "spark_OCDE_ind = SparkSession.\\\n",
    "builder.\\\n",
    "appName(\"pyspark-notebook2\").\\\n",
    "master(\"local\").\\\n",
    "config(\"spark.executor.memory\", \"1g\").\\\n",
    "config(\"spark.mongodb.input.uri\",\"mongodb://127.0.0.1/Project6.OCDE_ind\").\\\n",
    "config(\"spark.mongodb.output.uri\",\"mongodb://127.0.0.1/Project6.OCDE_ind\").\\\n",
    "config(\"spark.jars.packages\", \"org.mongodb.spark:mongo-spark-connector_2.12:3.0.0\").\\\n",
    "config(\"spark.jars\", \"\\Spark\\spark-3.3.1-bin-hadoop3\\jars\\mysql-connector-j-8.0.32.jar\").\\\n",
    "getOrCreate()"
   ]
  },
  {
   "cell_type": "markdown",
   "id": "b6fd8c3b-dd1b-4aeb-accf-536b51949d0d",
   "metadata": {},
   "source": [
    "## Extract"
   ]
  },
  {
   "cell_type": "code",
   "execution_count": 3,
   "id": "f6b11b82-9a1f-4964-8eba-f855ca1aea86",
   "metadata": {},
   "outputs": [
    {
     "name": "stdout",
     "output_type": "stream",
     "text": [
      "root\n",
      " |-- Country: string (nullable = true)\n",
      " |-- Flag Codes: string (nullable = true)\n",
      " |-- Flags: string (nullable = true)\n",
      " |-- IND: string (nullable = true)\n",
      " |-- Industry: string (nullable = true)\n",
      " |-- LOCATION: string (nullable = true)\n",
      " |-- PowerCode: string (nullable = true)\n",
      " |-- PowerCode Code: string (nullable = true)\n",
      " |-- Reference Period: string (nullable = true)\n",
      " |-- Reference Period Code: string (nullable = true)\n",
      " |-- TIME: string (nullable = true)\n",
      " |-- Time: string (nullable = true)\n",
      " |-- Unit: string (nullable = true)\n",
      " |-- Unit Code: string (nullable = true)\n",
      " |-- VAR: string (nullable = true)\n",
      " |-- Value: string (nullable = true)\n",
      " |-- Variable: string (nullable = true)\n",
      " |-- _id: struct (nullable = true)\n",
      " |    |-- oid: string (nullable = true)\n",
      "\n"
     ]
    }
   ],
   "source": [
    "spark_OCDE_ind.conf.set('spark.sql.caseSensitive', True)\n",
    "\n",
    "df_OCDE_ind = spark_OCDE_ind.read.format(\"com.mongodb.spark.sql.DefaultSource\").load()\n",
    "df_OCDE_ind.printSchema()"
   ]
  },
  {
   "cell_type": "markdown",
   "id": "d58c91fd-0745-4107-afb9-7f7af9614d0f",
   "metadata": {},
   "source": [
    "## Transform"
   ]
  },
  {
   "cell_type": "code",
   "execution_count": 4,
   "id": "bfff60e0-baa2-4879-ad43-4850697f10cc",
   "metadata": {},
   "outputs": [
    {
     "name": "stdout",
     "output_type": "stream",
     "text": [
      "+----+--------------------+\n",
      "|TIME|                 sum|\n",
      "+----+--------------------+\n",
      "|2019| 6.78890384967321E10|\n",
      "|2018|2.129130072401470...|\n",
      "|2017|3.944693233941146E11|\n",
      "|2016|3.759454383108052E11|\n",
      "|2015| 3.64124148940675E11|\n",
      "|2014|3.511158262619162...|\n",
      "|2013|3.402527159873142E11|\n",
      "|2012|3.293067033760887E11|\n",
      "|2011|3.189067274586897...|\n",
      "|2010|2.963322559956424...|\n",
      "+----+--------------------+\n",
      "\n"
     ]
    }
   ],
   "source": [
    "from pyspark.sql.functions import sum,avg,max,count, round, col, asc\n",
    "\n",
    "df_time_sum = (df_OCDE_ind.groupby('TIME')\\\n",
    ".agg(sum('Value')\\\n",
    ".alias('sum'))\\\n",
    ".sort(col('TIME')\\\n",
    ".desc()))\n",
    "\n",
    "df_time_sum.show()"
   ]
  },
  {
   "cell_type": "markdown",
   "id": "4a0396dc-5f26-45c4-97a8-4fbe87b7bcb3",
   "metadata": {},
   "source": [
    "## Load"
   ]
  },
  {
   "cell_type": "code",
   "execution_count": 5,
   "id": "895693c0-9fd3-4492-b73a-d2482f6fe7ab",
   "metadata": {},
   "outputs": [],
   "source": [
    "df_time_sum.write \\\n",
    "  .format(\"jdbc\") \\\n",
    "  .option(\"driver\",\"com.mysql.cj.jdbc.Driver\") \\\n",
    "  .option(\"url\", \"jdbc:mysql://localhost:3306/Project6\") \\\n",
    "  .option(\"dbtable\", \"OCDE_ind_year\") \\\n",
    "  .option(\"user\", \"root\") \\\n",
    "  .option(\"password\", \"M1a2r3t4a5!\") \\\n",
    "  .save()"
   ]
  }
 ],
 "metadata": {
  "kernelspec": {
   "display_name": "Python 3 (ipykernel)",
   "language": "python",
   "name": "python3"
  },
  "language_info": {
   "codemirror_mode": {
    "name": "ipython",
    "version": 3
   },
   "file_extension": ".py",
   "mimetype": "text/x-python",
   "name": "python",
   "nbconvert_exporter": "python",
   "pygments_lexer": "ipython3",
   "version": "3.10.4"
  }
 },
 "nbformat": 4,
 "nbformat_minor": 5
}
