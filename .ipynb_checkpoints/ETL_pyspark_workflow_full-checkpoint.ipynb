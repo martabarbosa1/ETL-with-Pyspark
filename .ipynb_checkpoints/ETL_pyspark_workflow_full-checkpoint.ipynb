{
 "cells": [
  {
   "cell_type": "markdown",
   "id": "b88fcc6a-6dbd-4ded-8017-c6da40578e23",
   "metadata": {},
   "source": [
    "## Imports and Initialization of script"
   ]
  },
  {
   "cell_type": "code",
   "execution_count": 1,
   "id": "b684bb0a-46de-4a1b-a2ac-a10eca7a2299",
   "metadata": {},
   "outputs": [
    {
     "name": "stdout",
     "output_type": "stream",
     "text": [
      "Requirement already satisfied: pyspark in c:\\users\\marta\\anaconda3\\lib\\site-packages (3.3.1)\n",
      "Requirement already satisfied: py4j==0.10.9.5 in c:\\users\\marta\\anaconda3\\lib\\site-packages (from pyspark) (0.10.9.5)\n"
     ]
    }
   ],
   "source": [
    "!pip install pyspark\n",
    "\n",
    "import sys\n",
    "import os\n",
    "\n",
    "os.environ['HADOOP_HOME'] = \"C:\\Hadoop\"\n",
    "sys.path.append(\"C:\\Hadoop\\bin\")\n",
    "\n",
    "os.environ['JAVA_HOME'] = \"C:\\Java\"\n",
    "sys.path.append(\"C:\\Java\\bin\")"
   ]
  },
  {
   "cell_type": "code",
   "execution_count": 2,
   "id": "7fe50dca-e3f1-4c89-9c39-6323f3b97d0c",
   "metadata": {},
   "outputs": [],
   "source": [
    "from pyspark.sql import SparkSession\n",
    "\n",
    "spark = SparkSession.\\\n",
    "builder.\\\n",
    "appName(\"pyspark-notebook2\").\\\n",
    "master(\"local\").\\\n",
    "config(\"spark.executor.memory\", \"1g\").\\\n",
    "config(\"spark.mongodb.input.uri\",\"mongodb://127.0.0.1/Project6\").\\\n",
    "config(\"spark.mongodb.output.uri\",\"mongodb://127.0.0.1/Project6\").\\\n",
    "config(\"spark.jars.packages\", \"org.mongodb.spark:mongo-spark-connector_2.12:3.0.0\").\\\n",
    "config(\"spark.jars\", \"\\Spark\\spark-3.3.1-bin-hadoop3\\jars\\mysql-connector-j-8.0.32.jar\").\\\n",
    "getOrCreate()"
   ]
  },
  {
   "cell_type": "markdown",
   "id": "b6fd8c3b-dd1b-4aeb-accf-536b51949d0d",
   "metadata": {},
   "source": [
    "## Extract"
   ]
  },
  {
   "cell_type": "code",
   "execution_count": 28,
   "id": "36aa5ae5-e681-43c9-9913-b987b73b05f9",
   "metadata": {},
   "outputs": [],
   "source": [
    "collection_list = ['Research_2007_2013', 'Research_2007_2013_org', 'Research_2007_2013_themes',\\\n",
    "                  'Research_2014_2020', 'Research_2014_2020_org', 'Research_2014_2020_themes',\\\n",
    "                  'Research_2021_2027', 'Research_021_2027_org', 'Research_021_2027_themes',\\\n",
    "                  'OCDE_ind']\n",
    "    \n",
    "def extract_collection(collection):\n",
    "    spark.conf.set('spark.sql.caseSensitive', True)\n",
    "    \n",
    "    df_collection = spark.read\\\n",
    "    .format(\"com.mongodb.spark.sql.DefaultSource\")\\\n",
    "    .option(\"uri\", \"mongodb://localhost:27017/Project6\") \\\n",
    "    .option(\"database\", \"Project6\") \\\n",
    "    .option(\"collection\", collection) \\\n",
    "    .load()\n",
    "    return df_collection\n",
    "\n",
    "result = list(map(extract_collection, collection_list))"
   ]
  },
  {
   "cell_type": "code",
   "execution_count": 29,
   "id": "eee0449b-2df6-4c2c-95c4-f0c9930115b2",
   "metadata": {},
   "outputs": [
    {
     "name": "stdout",
     "output_type": "stream",
     "text": [
      "DataFrame[_id: struct<oid:string>, acronym: string, contentUpdateDate: string, ecMaxContribution: int, endDate: timestamp, frameworkProgramme: string, fundingScheme: string, id: string, legalBasis: string, nature: string, objective: string, rcn: string, startDate: timestamp, status: string, subCall: string, title: string, topics: string, totalCost: double]\n"
     ]
    }
   ],
   "source": [
    "#testing the extract function\n",
    "print(result[0])"
   ]
  },
  {
   "cell_type": "code",
   "execution_count": 30,
   "id": "d9040af7-99a0-4096-aee6-2d563b6902f7",
   "metadata": {},
   "outputs": [
    {
     "name": "stdout",
     "output_type": "stream",
     "text": [
      "root\n",
      " |-- _id: struct (nullable = true)\n",
      " |    |-- oid: string (nullable = true)\n",
      " |-- acronym: string (nullable = true)\n",
      " |-- contentUpdateDate: string (nullable = true)\n",
      " |-- ecMaxContribution: integer (nullable = true)\n",
      " |-- endDate: timestamp (nullable = true)\n",
      " |-- frameworkProgramme: string (nullable = true)\n",
      " |-- fundingScheme: string (nullable = true)\n",
      " |-- id: string (nullable = true)\n",
      " |-- legalBasis: string (nullable = true)\n",
      " |-- nature: string (nullable = true)\n",
      " |-- objective: string (nullable = true)\n",
      " |-- rcn: string (nullable = true)\n",
      " |-- startDate: timestamp (nullable = true)\n",
      " |-- status: string (nullable = true)\n",
      " |-- subCall: string (nullable = true)\n",
      " |-- title: string (nullable = true)\n",
      " |-- topics: string (nullable = true)\n",
      " |-- totalCost: double (nullable = true)\n",
      "\n"
     ]
    }
   ],
   "source": [
    "result[0].printSchema()"
   ]
  },
  {
   "cell_type": "markdown",
   "id": "d58c91fd-0745-4107-afb9-7f7af9614d0f",
   "metadata": {},
   "source": [
    "## Transform"
   ]
  },
  {
   "cell_type": "code",
   "execution_count": 4,
   "id": "bfff60e0-baa2-4879-ad43-4850697f10cc",
   "metadata": {},
   "outputs": [
    {
     "name": "stdout",
     "output_type": "stream",
     "text": [
      "+----+--------------------+\n",
      "|TIME|                 sum|\n",
      "+----+--------------------+\n",
      "|2019| 6.78890384967321E10|\n",
      "|2018|2.129130072401470...|\n",
      "|2017|3.944693233941146E11|\n",
      "|2016|3.759454383108052E11|\n",
      "|2015| 3.64124148940675E11|\n",
      "|2014|3.511158262619162...|\n",
      "|2013|3.402527159873142E11|\n",
      "|2012|3.293067033760887E11|\n",
      "|2011|3.189067274586897...|\n",
      "|2010|2.963322559956424...|\n",
      "+----+--------------------+\n",
      "\n"
     ]
    }
   ],
   "source": [
    "from pyspark.sql.functions import sum,avg,max,count, round, col, asc\n",
    "\n",
    "df_time_sum = (df_OCDE_ind.groupby('TIME')\\\n",
    ".agg(sum('Value')\\\n",
    ".alias('sum'))\\\n",
    ".sort(col('TIME')\\\n",
    ".desc()))\n",
    "\n",
    "df_time_sum.show()"
   ]
  },
  {
   "cell_type": "markdown",
   "id": "4a0396dc-5f26-45c4-97a8-4fbe87b7bcb3",
   "metadata": {},
   "source": [
    "## Load"
   ]
  },
  {
   "cell_type": "code",
   "execution_count": 5,
   "id": "895693c0-9fd3-4492-b73a-d2482f6fe7ab",
   "metadata": {},
   "outputs": [],
   "source": [
    "df_time_sum.write \\\n",
    "  .format(\"jdbc\") \\\n",
    "  .option(\"driver\",\"com.mysql.cj.jdbc.Driver\") \\\n",
    "  .option(\"url\", \"jdbc:mysql://localhost:3306/Project6\") \\\n",
    "  .option(\"dbtable\", \"OCDE_ind_year\") \\\n",
    "  .option(\"user\", \"root\") \\\n",
    "  .option(\"password\", \"M1a2r3t4a5!\") \\\n",
    "  .save()"
   ]
  }
 ],
 "metadata": {
  "kernelspec": {
   "display_name": "Python 3 (ipykernel)",
   "language": "python",
   "name": "python3"
  },
  "language_info": {
   "codemirror_mode": {
    "name": "ipython",
    "version": 3
   },
   "file_extension": ".py",
   "mimetype": "text/x-python",
   "name": "python",
   "nbconvert_exporter": "python",
   "pygments_lexer": "ipython3",
   "version": "3.9.12"
  }
 },
 "nbformat": 4,
 "nbformat_minor": 5
}
